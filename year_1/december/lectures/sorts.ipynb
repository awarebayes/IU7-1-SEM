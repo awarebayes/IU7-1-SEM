{
 "metadata": {
  "language_info": {
   "codemirror_mode": {
    "name": "ipython",
    "version": 3
   },
   "file_extension": ".py",
   "mimetype": "text/x-python",
   "name": "python",
   "nbconvert_exporter": "python",
   "pygments_lexer": "ipython3",
   "version": "3.8.6-final"
  },
  "orig_nbformat": 2,
  "kernelspec": {
   "name": "python3",
   "display_name": "Python 3",
   "language": "python"
  }
 },
 "nbformat": 4,
 "nbformat_minor": 2,
 "cells": [
  {
   "source": [
    "# Сортировки"
   ],
   "cell_type": "markdown",
   "metadata": {}
  },
  {
   "cell_type": "code",
   "execution_count": 166,
   "metadata": {},
   "outputs": [],
   "source": [
    "def test_sort(sorting_func):\n",
    "    test_arr = [randint(-100, 100) for i in range(100)]\n",
    "    assert sorting_func(test_arr) == sorted(test_arr)\n",
    "    print(\"test passed!\")"
   ]
  },
  {
   "cell_type": "code",
   "execution_count": 167,
   "metadata": {},
   "outputs": [],
   "source": [
    "def selection_sort(arr):\n",
    "    size = len(arr)\n",
    "    for i in range(size):\n",
    "        min_idx = i\n",
    "        last_idx = i\n",
    "        for j in range(last_idx, size):\n",
    "            if arr[min_idx] > arr[j]:\n",
    "                min_idx = j\n",
    "        arr[last_idx], arr[min_idx] = arr[min_idx], arr[last_idx]\n",
    "        last_idx += 1\n",
    "    return arr"
   ]
  },
  {
   "cell_type": "code",
   "execution_count": 168,
   "metadata": {},
   "outputs": [
    {
     "output_type": "stream",
     "name": "stdout",
     "text": [
      "test passed!\n"
     ]
    }
   ],
   "source": [
    "test_sort(selection_sort)"
   ]
  },
  {
   "cell_type": "code",
   "execution_count": 169,
   "metadata": {},
   "outputs": [],
   "source": [
    "def bubble_sort(arr):\n",
    "    size = len(arr)\n",
    "    for i in range(size):\n",
    "        for j in range(size-1):\n",
    "            if arr[j] > arr[j+1]:\n",
    "                arr[j], arr[j+1] = arr[j+1], arr[j]\n",
    "    return arr"
   ]
  },
  {
   "cell_type": "code",
   "execution_count": 170,
   "metadata": {},
   "outputs": [
    {
     "output_type": "stream",
     "name": "stdout",
     "text": [
      "test passed!\n"
     ]
    }
   ],
   "source": [
    "test_sort(bubble_sort)"
   ]
  },
  {
   "cell_type": "code",
   "execution_count": 171,
   "metadata": {},
   "outputs": [],
   "source": [
    "def bubble_flag_sort(arr):\n",
    "    size = len(arr)\n",
    "    for i in range(size):\n",
    "        sort = True\n",
    "        for j in range(size-1):\n",
    "            if arr[j] > arr[j+1]:\n",
    "                sort = False\n",
    "                arr[j], arr[j+1] = arr[j+1], arr[j]\n",
    "        if sort:\n",
    "            return arr\n",
    "    return arr"
   ]
  },
  {
   "cell_type": "code",
   "execution_count": 172,
   "metadata": {},
   "outputs": [
    {
     "output_type": "stream",
     "name": "stdout",
     "text": [
      "test passed!\n"
     ]
    }
   ],
   "source": [
    "test_sort(bubble_flag_sort)"
   ]
  },
  {
   "cell_type": "code",
   "execution_count": 173,
   "metadata": {},
   "outputs": [],
   "source": [
    "def shaker_sort(arr):\n",
    "    size = len(arr)\n",
    "    for i in range(size):\n",
    "        for j in range(0, size-1, 1):\n",
    "            if arr[j] > arr[j+1]:\n",
    "                arr[j], arr[j+1] = arr[j+1], arr[j]\n",
    "\n",
    "        for j in range(size-1, 0, -1):\n",
    "            if arr[j] < arr[j-1]:\n",
    "                arr[j], arr[j-1] = arr[j-1], arr[j]\n",
    "    return arr"
   ]
  },
  {
   "cell_type": "code",
   "execution_count": 174,
   "metadata": {},
   "outputs": [
    {
     "output_type": "stream",
     "name": "stdout",
     "text": [
      "test passed!\n"
     ]
    }
   ],
   "source": [
    "test_sort(shaker_sort)"
   ]
  },
  {
   "cell_type": "code",
   "execution_count": 175,
   "metadata": {},
   "outputs": [],
   "source": [
    "def linear_insertion_sort(arr):\n",
    "    size = len(arr)\n",
    "    for i in range(1, size):\n",
    "        for j in range(i, 0, -1):\n",
    "            if arr[j] < arr[j-1]:\n",
    "                arr[j-1], arr[j] = arr[j], arr[j-1]\n",
    "            else:\n",
    "                break\n",
    "    return arr"
   ]
  },
  {
   "cell_type": "code",
   "execution_count": 176,
   "metadata": {},
   "outputs": [
    {
     "output_type": "stream",
     "name": "stdout",
     "text": [
      "test passed!\n"
     ]
    }
   ],
   "source": [
    "test_sort(linear_insertion_sort)"
   ]
  },
  {
   "source": [
    "## Кто нибудь знает что такое вставки с барьером?"
   ],
   "cell_type": "markdown",
   "metadata": {}
  },
  {
   "cell_type": "code",
   "execution_count": 177,
   "metadata": {},
   "outputs": [],
   "source": [
    "def bin_search(arr, num, low, high):\n",
    "    while low < high:\n",
    "        middle = low + (high - low) // 2\n",
    "        if num < arr[middle]:\n",
    "            high = middle\n",
    "        else:\n",
    "            low = middle + 1\n",
    "    return low \n",
    "   \n",
    "\n",
    "def binary_insertion_sort(arr):\n",
    "    size = len(arr)\n",
    "    for i in range(1, size):\n",
    "        search_idx = bin_search(arr, arr[i], 0, i)\n",
    "        for j in range(i, search_idx, -1):\n",
    "            arr[j-1], arr[j] = arr[j], arr[j-1]\n",
    "    return arr"
   ]
  },
  {
   "cell_type": "code",
   "execution_count": 178,
   "metadata": {
    "tags": []
   },
   "outputs": [],
   "source": [
    "# bin search test\n",
    "from random import randint\n",
    "arr = [0]\n",
    "for i in range(100):\n",
    "    x = randint(-100, 100)\n",
    "    arr.insert(bin_search(arr, x, 0, len(arr)), x)\n",
    "assert arr == sorted(arr)"
   ]
  },
  {
   "cell_type": "code",
   "execution_count": 179,
   "metadata": {},
   "outputs": [
    {
     "output_type": "stream",
     "name": "stdout",
     "text": [
      "test passed!\n"
     ]
    }
   ],
   "source": [
    "test_sort(binary_insertion_sort)"
   ]
  },
  {
   "cell_type": "code",
   "execution_count": 180,
   "metadata": {},
   "outputs": [],
   "source": [
    "def quick_sort(arr):\n",
    "    if not isinstance(arr, list):\n",
    "        arr = list(arr)\n",
    "    if len(arr) == 1 or len(arr) == 0:\n",
    "        return arr\n",
    "    delim = arr[len(arr) // 2]\n",
    "    return quick_sort(filter(lambda x: x < delim, arr)) + \\\n",
    "           list(filter(lambda x: x == delim, arr)) + \\\n",
    "           quick_sort(filter(lambda x: x > delim, arr))"
   ]
  },
  {
   "cell_type": "code",
   "execution_count": 181,
   "metadata": {},
   "outputs": [
    {
     "output_type": "stream",
     "name": "stdout",
     "text": [
      "test passed!\n"
     ]
    }
   ],
   "source": [
    "test_sort(quick_sort)"
   ]
  },
  {
   "cell_type": "code",
   "execution_count": null,
   "metadata": {},
   "outputs": [],
   "source": []
  }
 ]
}